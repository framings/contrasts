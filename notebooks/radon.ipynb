{
 "cells": [
  {
   "cell_type": "markdown",
   "id": "12ff85d2-a615-44b7-8376-6b767072ce72",
   "metadata": {},
   "source": [
    "# Preliminaries"
   ]
  },
  {
   "cell_type": "code",
   "execution_count": null,
   "id": "0007da65-a9db-493a-a65c-6fcb17522b88",
   "metadata": {},
   "outputs": [],
   "source": [
    "!python --version"
   ]
  },
  {
   "cell_type": "markdown",
   "id": "73d16c72-2d28-4fab-b572-21f3399dd9c9",
   "metadata": {},
   "source": [
    "## Environment"
   ]
  },
  {
   "cell_type": "code",
   "execution_count": null,
   "id": "4ac853ec-e3a3-444b-9760-a85b9aafa9e6",
   "metadata": {},
   "outputs": [],
   "source": [
    "%%bash\n",
    "\n",
    "sudo apt-get update -y &> python.log\n",
    "sudo apt-get install python3.8 &>> python.log\n",
    "\n",
    "sudo update-alternatives --install /usr/bin/python3 python3 /usr/bin/python3.10 1 &>> python.log\n",
    "sudo update-alternatives --install /usr/bin/python3 python3 /usr/bin/python3.8 2 &>> python.log\n"
   ]
  },
  {
   "cell_type": "code",
   "execution_count": null,
   "id": "2530cdd4-bfc1-4992-8909-078ba9fbeb46",
   "metadata": {},
   "outputs": [],
   "source": [
    "!sudo update-alternatives --list python3"
   ]
  },
  {
   "cell_type": "code",
   "execution_count": null,
   "id": "a4d4715e-d112-4981-8b19-ec1cd26f45db",
   "metadata": {},
   "outputs": [],
   "source": [
    "!sudo update-alternatives --config python3"
   ]
  }
 ],
 "metadata": {
  "kernelspec": {
   "display_name": "Python 3 (ipykernel)",
   "language": "python",
   "name": "python3"
  },
  "language_info": {
   "codemirror_mode": {
    "name": "ipython",
    "version": 3
   },
   "file_extension": ".py",
   "mimetype": "text/x-python",
   "name": "python",
   "nbconvert_exporter": "python",
   "pygments_lexer": "ipython3",
   "version": "3.9.12"
  },
  "vscode": {
   "interpreter": {
    "hash": "d4d1e4263499bec80672ea0156c357c1ee493ec2b1c70f0acce89fc37c4a6abe"
   }
  }
 },
 "nbformat": 4,
 "nbformat_minor": 5
}
